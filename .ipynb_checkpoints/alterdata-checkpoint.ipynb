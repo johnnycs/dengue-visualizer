{
 "cells": [
  {
   "cell_type": "code",
   "execution_count": 1,
   "metadata": {
    "collapsed": false
   },
   "outputs": [
    {
     "name": "stderr",
     "output_type": "stream",
     "text": [
      "/Users/JohnnyV/anaconda2/lib/python2.7/site-packages/matplotlib/font_manager.py:273: UserWarning: Matplotlib is building the font cache using fc-list. This may take a moment.\n",
      "  warnings.warn('Matplotlib is building the font cache using fc-list. This may take a moment.')\n"
     ]
    }
   ],
   "source": [
    "%matplotlib inline\n",
    "from matplotlib import pyplot as plt\n",
    "import numpy as np\n",
    "import math\n",
    "import pandas as pd\n",
    "from pandas import ExcelWriter\n",
    "from pandas import ExcelFile\n",
    "import glob as glob"
   ]
  },
  {
   "cell_type": "code",
   "execution_count": 2,
   "metadata": {
    "collapsed": true
   },
   "outputs": [],
   "source": [
    "accidents = pd.read_csv(\"100_samples_newyear_casualties.csv\")\n"
   ]
  },
  {
   "cell_type": "code",
   "execution_count": 31,
   "metadata": {
    "collapsed": false
   },
   "outputs": [],
   "source": [
    "accidents[\"เวลาเกิดเหตุ\"] = np.random.randint(0,3, size=len(accidents[\"เวลาเกิดเหตุ\"]))"
   ]
  },
  {
   "cell_type": "code",
   "execution_count": 32,
   "metadata": {
    "collapsed": false
   },
   "outputs": [],
   "source": [
    "# accidents[\"เวลาเกิดเหตุ\"] = 0"
   ]
  },
  {
   "cell_type": "code",
   "execution_count": 33,
   "metadata": {
    "collapsed": false
   },
   "outputs": [],
   "source": [
    "accidents.to_csv(\"/Users/JohnnyV/Desktop/Academic/CS/DataMining/project/dengue-visualizer/data/trial-100.csv\",sep=',',index=False)"
   ]
  },
  {
   "cell_type": "code",
   "execution_count": 34,
   "metadata": {
    "collapsed": false
   },
   "outputs": [
    {
     "data": {
      "text/plain": [
       "array([ 9,  3,  0,  7,  8,  3,  4,  4,  6, 10,  0,  5,  8, 10,  2, 10, 11,\n",
       "        3,  3, 11,  3,  1,  2,  9,  8,  9,  0,  6,  2,  7, 10,  3,  1,  2,\n",
       "        8,  0,  1, 10,  4,  6,  4,  0,  9, 11,  1,  9,  0,  5, 10,  9, 10,\n",
       "        4,  6,  7,  3,  2,  3,  3,  8,  7, 10,  5,  5, 10,  9,  8,  4, 11,\n",
       "       10,  6, 10,  4, 11,  7,  8,  5,  2,  7,  7,  7,  2, 10,  8,  0,  0,\n",
       "        6,  3,  7,  3,  5, 11,  3,  6,  6, 11, 11,  6,  9, 11,  8])"
      ]
     },
     "execution_count": 34,
     "metadata": {},
     "output_type": "execute_result"
    }
   ],
   "source": [
    "np.random.randint(0,12, size=len(accidents[\"เวลาเกิดเหตุ\"]))"
   ]
  },
  {
   "cell_type": "code",
   "execution_count": null,
   "metadata": {
    "collapsed": true
   },
   "outputs": [],
   "source": []
  }
 ],
 "metadata": {
  "anaconda-cloud": {},
  "kernelspec": {
   "display_name": "Python [default]",
   "language": "python",
   "name": "python2"
  },
  "language_info": {
   "codemirror_mode": {
    "name": "ipython",
    "version": 2
   },
   "file_extension": ".py",
   "mimetype": "text/x-python",
   "name": "python",
   "nbconvert_exporter": "python",
   "pygments_lexer": "ipython2",
   "version": "2.7.12"
  }
 },
 "nbformat": 4,
 "nbformat_minor": 1
}
