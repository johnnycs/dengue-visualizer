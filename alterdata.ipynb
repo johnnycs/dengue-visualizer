{
 "cells": [
  {
   "cell_type": "code",
   "execution_count": 1,
   "metadata": {
    "collapsed": false
   },
   "outputs": [
    {
     "name": "stderr",
     "output_type": "stream",
     "text": [
      "/Users/JohnnyV/anaconda2/lib/python2.7/site-packages/matplotlib/font_manager.py:273: UserWarning: Matplotlib is building the font cache using fc-list. This may take a moment.\n",
      "  warnings.warn('Matplotlib is building the font cache using fc-list. This may take a moment.')\n"
     ]
    }
   ],
   "source": [
    "%matplotlib inline\n",
    "from matplotlib import pyplot as plt\n",
    "import numpy as np\n",
    "import math\n",
    "import pandas as pd\n",
    "from pandas import ExcelWriter\n",
    "from pandas import ExcelFile\n",
    "import glob as glob"
   ]
  },
  {
   "cell_type": "code",
   "execution_count": 2,
   "metadata": {
    "collapsed": true
   },
   "outputs": [],
   "source": [
    "accidents = pd.read_csv(\"100_samples_newyear_casualties.csv\")\n"
   ]
  },
  {
   "cell_type": "code",
   "execution_count": 35,
   "metadata": {
    "collapsed": false
   },
   "outputs": [],
   "source": [
    "accidents[\"เวลาเกิดเหตุ\"] = np.random.randint(0,3, size=len(accidents[\"เวลาเกิดเหตุ\"]))"
   ]
  },
  {
   "cell_type": "code",
   "execution_count": 36,
   "metadata": {
    "collapsed": false
   },
   "outputs": [],
   "source": [
    "# accidents[\"เวลาเกิดเหตุ\"] = 0"
   ]
  },
  {
   "cell_type": "code",
   "execution_count": 37,
   "metadata": {
    "collapsed": false
   },
   "outputs": [],
   "source": [
    "accidents.to_csv(\"/Users/JohnnyV/Desktop/Academic/CS/DataMining/project/dengue-visualizer/data/trial-100.csv\",sep=',',index=False)"
   ]
  },
  {
   "cell_type": "code",
   "execution_count": 38,
   "metadata": {
    "collapsed": false
   },
   "outputs": [
    {
     "data": {
      "text/plain": [
       "array([2, 1, 2, 2, 2, 2, 1, 2, 0, 0, 1, 1, 1, 1, 1, 2, 0, 2, 2, 2, 0, 1, 2,\n",
       "       2, 0, 0, 1, 1, 0, 1, 1, 2, 2, 0, 1, 1, 1, 2, 1, 2, 1, 0, 0, 2, 0, 2,\n",
       "       1, 2, 2, 2, 0, 2, 2, 2, 2, 0, 1, 1, 1, 0, 0, 0, 0, 2, 0, 0, 0, 1, 1,\n",
       "       1, 0, 0, 1, 0, 1, 0, 2, 0, 1, 0, 0, 2, 2, 2, 1, 2, 2, 0, 0, 1, 0, 1,\n",
       "       2, 1, 0, 1, 0, 1, 2, 1])"
      ]
     },
     "execution_count": 38,
     "metadata": {},
     "output_type": "execute_result"
    }
   ],
   "source": [
    "np.random.randint(0,3, size=len(accidents[\"เวลาเกิดเหตุ\"]))"
   ]
  },
  {
   "cell_type": "code",
   "execution_count": 39,
   "metadata": {
    "collapsed": true
   },
   "outputs": [],
   "source": [
    "original = pd.read_csv(\"100_samples_newyear_casualties.csv\")\n"
   ]
  },
  {
   "cell_type": "code",
   "execution_count": 40,
   "metadata": {
    "collapsed": false
   },
   "outputs": [
    {
     "data": {
      "text/html": [
       "<div>\n",
       "<table border=\"1\" class=\"dataframe\">\n",
       "  <thead>\n",
       "    <tr style=\"text-align: right;\">\n",
       "      <th></th>\n",
       "      <th>year</th>\n",
       "      <th>ชื่อเทศกาล</th>\n",
       "      <th>รหัสจังหวัด</th>\n",
       "      <th>จังหวัด</th>\n",
       "      <th>รหัส รพ.</th>\n",
       "      <th>ชื่อโรงพยาบาลที่รับผู้บาดเจ็บ</th>\n",
       "      <th>วันที่เกิดเหตุ</th>\n",
       "      <th>เวลาเกิดเหตุ</th>\n",
       "      <th>เพศ</th>\n",
       "      <th>อายุ</th>\n",
       "      <th>ถนนที่เกิดเหตุ</th>\n",
       "      <th>สถานะ</th>\n",
       "      <th>รถผู้บาดเจ็บ</th>\n",
       "      <th>รถคู่กรณี</th>\n",
       "      <th>มาตรการ</th>\n",
       "      <th>การดื่มสุรา</th>\n",
       "      <th>การนำส่ง</th>\n",
       "      <th>Refer-Admit</th>\n",
       "      <th>ผลการรักษา</th>\n",
       "      <th>จำนวนวันรักษา</th>\n",
       "    </tr>\n",
       "  </thead>\n",
       "  <tbody>\n",
       "    <tr>\n",
       "      <th>0</th>\n",
       "      <td>2008</td>\n",
       "      <td>ปีใหม่ 51</td>\n",
       "      <td>10</td>\n",
       "      <td>กรุงเทพมหานคร</td>\n",
       "      <td>11630</td>\n",
       "      <td>กรุงเทพ</td>\n",
       "      <td>3</td>\n",
       "      <td>12</td>\n",
       "      <td>หญิง</td>\n",
       "      <td>54</td>\n",
       "      <td>ในเมือง</td>\n",
       "      <td>ผู้ชับขี่</td>\n",
       "      <td>รถเก๋ง/แท็กซี่</td>\n",
       "      <td>ไม่มี/ล้มเอง</td>\n",
       "      <td>เข็มขัด</td>\n",
       "      <td>ไม่ดื่ม</td>\n",
       "      <td>ผู้ประสบเหตุ/ญาติ</td>\n",
       "      <td>ไม่</td>\n",
       "      <td>ทุเลา/หาย</td>\n",
       "      <td>0</td>\n",
       "    </tr>\n",
       "    <tr>\n",
       "      <th>1</th>\n",
       "      <td>2008</td>\n",
       "      <td>ปีใหม่ 51</td>\n",
       "      <td>10</td>\n",
       "      <td>กรุงเทพมหานคร</td>\n",
       "      <td>11548</td>\n",
       "      <td>กรุงเทพคริสเตียน</td>\n",
       "      <td>2</td>\n",
       "      <td>21</td>\n",
       "      <td>หญิง</td>\n",
       "      <td>13</td>\n",
       "      <td>ในเมือง</td>\n",
       "      <td>ผู้ชับขี่</td>\n",
       "      <td>จักรยานยนต์</td>\n",
       "      <td>รถตู้</td>\n",
       "      <td>ใส่หมวก</td>\n",
       "      <td>ไม่ดื่ม</td>\n",
       "      <td>มูลนิธิ/อาสาสมัคร</td>\n",
       "      <td>admit</td>\n",
       "      <td>ทุเลา/หาย</td>\n",
       "      <td>0</td>\n",
       "    </tr>\n",
       "    <tr>\n",
       "      <th>2</th>\n",
       "      <td>2008</td>\n",
       "      <td>ปีใหม่ 51</td>\n",
       "      <td>10</td>\n",
       "      <td>กรุงเทพมหานคร</td>\n",
       "      <td>11548</td>\n",
       "      <td>กรุงเทพคริสเตียน</td>\n",
       "      <td>31</td>\n",
       "      <td>03</td>\n",
       "      <td>หญิง</td>\n",
       "      <td>0</td>\n",
       "      <td>ในเมือง</td>\n",
       "      <td>ผู้โดยสาร</td>\n",
       "      <td>จักรยานยนต์</td>\n",
       "      <td>ปิคอัพ</td>\n",
       "      <td>ไม่ใส่</td>\n",
       "      <td>ไม่ดื่ม</td>\n",
       "      <td>ผู้ประสบเหตุ/ญาติ</td>\n",
       "      <td>ไม่</td>\n",
       "      <td>ทุเลา/หาย</td>\n",
       "      <td>0</td>\n",
       "    </tr>\n",
       "    <tr>\n",
       "      <th>3</th>\n",
       "      <td>2008</td>\n",
       "      <td>ปีใหม่ 51</td>\n",
       "      <td>10</td>\n",
       "      <td>กรุงเทพมหานคร</td>\n",
       "      <td>11548</td>\n",
       "      <td>กรุงเทพคริสเตียน</td>\n",
       "      <td>31</td>\n",
       "      <td>03</td>\n",
       "      <td>หญิง</td>\n",
       "      <td>0</td>\n",
       "      <td>ในเมือง</td>\n",
       "      <td>ผู้โดยสาร</td>\n",
       "      <td>จักรยานยนต์</td>\n",
       "      <td>ปิคอัพ</td>\n",
       "      <td>ใส่หมวก</td>\n",
       "      <td>ไม่ดื่ม</td>\n",
       "      <td>ผู้ประสบเหตุ/ญาติ</td>\n",
       "      <td>ไม่</td>\n",
       "      <td>ทุเลา/หาย</td>\n",
       "      <td>0</td>\n",
       "    </tr>\n",
       "    <tr>\n",
       "      <th>4</th>\n",
       "      <td>2008</td>\n",
       "      <td>ปีใหม่ 51</td>\n",
       "      <td>10</td>\n",
       "      <td>กรุงเทพมหานคร</td>\n",
       "      <td>11548</td>\n",
       "      <td>กรุงเทพคริสเตียน</td>\n",
       "      <td>31</td>\n",
       "      <td>03</td>\n",
       "      <td>ชาย</td>\n",
       "      <td>0</td>\n",
       "      <td>ในเมือง</td>\n",
       "      <td>ผู้ชับขี่</td>\n",
       "      <td>จักรยานยนต์</td>\n",
       "      <td>ปิคอัพ</td>\n",
       "      <td>ใส่หมวก</td>\n",
       "      <td>ดื่ม</td>\n",
       "      <td>ผู้ประสบเหตุ/ญาติ</td>\n",
       "      <td>ไม่</td>\n",
       "      <td>ทุเลา/หาย</td>\n",
       "      <td>0</td>\n",
       "    </tr>\n",
       "  </tbody>\n",
       "</table>\n",
       "</div>"
      ],
      "text/plain": [
       "   year ชื่อเทศกาล  รหัสจังหวัด        จังหวัด  รหัส รพ.  \\\n",
       "0  2008  ปีใหม่ 51           10  กรุงเทพมหานคร     11630   \n",
       "1  2008  ปีใหม่ 51           10  กรุงเทพมหานคร     11548   \n",
       "2  2008  ปีใหม่ 51           10  กรุงเทพมหานคร     11548   \n",
       "3  2008  ปีใหม่ 51           10  กรุงเทพมหานคร     11548   \n",
       "4  2008  ปีใหม่ 51           10  กรุงเทพมหานคร     11548   \n",
       "\n",
       "  ชื่อโรงพยาบาลที่รับผู้บาดเจ็บ  วันที่เกิดเหตุ เวลาเกิดเหตุ   เพศ  อายุ  \\\n",
       "0                       กรุงเทพ               3           12  หญิง    54   \n",
       "1              กรุงเทพคริสเตียน               2           21  หญิง    13   \n",
       "2              กรุงเทพคริสเตียน              31           03  หญิง     0   \n",
       "3              กรุงเทพคริสเตียน              31           03  หญิง     0   \n",
       "4              กรุงเทพคริสเตียน              31           03   ชาย     0   \n",
       "\n",
       "  ถนนที่เกิดเหตุ      สถานะ    รถผู้บาดเจ็บ     รถคู่กรณี  มาตรการ  \\\n",
       "0        ในเมือง  ผู้ชับขี่  รถเก๋ง/แท็กซี่  ไม่มี/ล้มเอง  เข็มขัด   \n",
       "1        ในเมือง  ผู้ชับขี่     จักรยานยนต์         รถตู้  ใส่หมวก   \n",
       "2        ในเมือง  ผู้โดยสาร     จักรยานยนต์        ปิคอัพ   ไม่ใส่   \n",
       "3        ในเมือง  ผู้โดยสาร     จักรยานยนต์        ปิคอัพ  ใส่หมวก   \n",
       "4        ในเมือง  ผู้ชับขี่     จักรยานยนต์        ปิคอัพ  ใส่หมวก   \n",
       "\n",
       "  การดื่มสุรา           การนำส่ง Refer-Admit ผลการรักษา  จำนวนวันรักษา  \n",
       "0     ไม่ดื่ม  ผู้ประสบเหตุ/ญาติ         ไม่  ทุเลา/หาย              0  \n",
       "1     ไม่ดื่ม  มูลนิธิ/อาสาสมัคร       admit  ทุเลา/หาย              0  \n",
       "2     ไม่ดื่ม  ผู้ประสบเหตุ/ญาติ         ไม่  ทุเลา/หาย              0  \n",
       "3     ไม่ดื่ม  ผู้ประสบเหตุ/ญาติ         ไม่  ทุเลา/หาย              0  \n",
       "4        ดื่ม  ผู้ประสบเหตุ/ญาติ         ไม่  ทุเลา/หาย              0  "
      ]
     },
     "execution_count": 40,
     "metadata": {},
     "output_type": "execute_result"
    }
   ],
   "source": [
    "original.head()"
   ]
  },
  {
   "cell_type": "code",
   "execution_count": 43,
   "metadata": {
    "collapsed": false
   },
   "outputs": [],
   "source": [
    "original = original.drop(['year','ชื่อเทศกาล','จังหวัด','รหัส รพ.',\n",
    "               'ชื่อโรงพยาบาลที่รับผู้บาดเจ็บ','เพศ','อายุ',\n",
    "               'ถนนที่เกิดเหตุ','สถานะ','รถผู้บาดเจ็บ',\n",
    "               'รถคู่กรณี','มาตรการ','การดื่มสุรา','การนำส่ง',\n",
    "               'Refer-Admit','ผลการรักษา','จำนวนวันรักษา'],axis=1)"
   ]
  },
  {
   "cell_type": "code",
   "execution_count": 45,
   "metadata": {
    "collapsed": true
   },
   "outputs": [],
   "source": [
    "original[\"เวลาเกิดเหตุ\"] = np.random.randint(0,3, size=len(accidents[\"เวลาเกิดเหตุ\"]))"
   ]
  },
  {
   "cell_type": "code",
   "execution_count": 46,
   "metadata": {
    "collapsed": true
   },
   "outputs": [],
   "source": [
    "original.to_csv(\"/Users/JohnnyV/Desktop/Academic/CS/DataMining/project/dengue-visualizer/data/trial-100.csv\",sep=',',index=False)"
   ]
  },
  {
   "cell_type": "code",
   "execution_count": 54,
   "metadata": {
    "collapsed": true
   },
   "outputs": [],
   "source": [
    "thailand = pd.read_json(\"/Users/JohnnyV/Desktop/Academic/CS/DataMining/project/dengue-visualizer/data/thailand.json\")"
   ]
  },
  {
   "cell_type": "code",
   "execution_count": 124,
   "metadata": {
    "collapsed": false
   },
   "outputs": [],
   "source": [
    "thailand_dict = []\n",
    "for i in range(len(thailand)):\n",
    "    thailand_dict.append(thailand.features[i].get('properties'))\n",
    "thailand_dict = np.array(thailand_dict)"
   ]
  },
  {
   "cell_type": "code",
   "execution_count": 125,
   "metadata": {
    "collapsed": false
   },
   "outputs": [],
   "source": [
    "# print thailand_dict[0].get('CHA_NE')\n",
    "# print thailand_dict[0].get('code')\n",
    "temp = []\n",
    "for i in range(len(thailand_dict)):\n",
    "    province = thailand_dict[i].get('CHA_NE')\n",
    "    code = thailand_dict[i].get('code')\n",
    "    temp.append((code, province))\n",
    "inn = dict(temp)"
   ]
  },
  {
   "cell_type": "code",
   "execution_count": 127,
   "metadata": {
    "collapsed": false
   },
   "outputs": [],
   "source": [
    "import pickle\n",
    "\n",
    "with open('thailand.pickle', 'wb') as handle:\n",
    "    pickle.dump(inn, handle, protocol=pickle.HIGHEST_PROTOCOL)\n",
    "\n",
    "with open('thailand.pickle', 'rb') as handle:\n",
    "    b = pickle.load(handle)\n"
   ]
  },
  {
   "cell_type": "code",
   "execution_count": 132,
   "metadata": {
    "collapsed": false
   },
   "outputs": [
    {
     "data": {
      "text/plain": [
       "[u'Bangkok',\n",
       " u'SamutPrakan',\n",
       " u'Nonthaburi',\n",
       " u'PathumThani',\n",
       " u'PhraNakhonSiAyutthaya',\n",
       " u'AngThong',\n",
       " u'LopBuri',\n",
       " u'SingBuri',\n",
       " u'ChaiNat',\n",
       " u'Saraburi',\n",
       " u'ChonBuri',\n",
       " u'Rayong',\n",
       " u'Chanthaburi',\n",
       " u'Trat',\n",
       " u'Chachoengsao',\n",
       " u'PrachinBuri',\n",
       " u'NakhonNayok',\n",
       " u'SaKaeo',\n",
       " u'NakhonRatchasima',\n",
       " u'BuriRam',\n",
       " u'Surin',\n",
       " u'SiSaKet',\n",
       " u'UbonRatchathani',\n",
       " u'Yasothon',\n",
       " u'Chaiyaphum',\n",
       " u'AmnatCharoen',\n",
       " u'NongBuaLamPhu',\n",
       " u'KhonKaen',\n",
       " u'UdonThani',\n",
       " u'Loei',\n",
       " u'NongKhai',\n",
       " u'MahaSarakham',\n",
       " u'RoiEt',\n",
       " u'Kalasin',\n",
       " u'SakonNakhon',\n",
       " u'NakhonPhanom',\n",
       " u'Mukdahan',\n",
       " u'ChiangMai',\n",
       " u'Lamphun',\n",
       " u'Lampang',\n",
       " u'Uttaradit',\n",
       " u'Phrae',\n",
       " u'Nan',\n",
       " u'Phayao',\n",
       " u'ChiangRai',\n",
       " u'MaeHongSon',\n",
       " u'NakhonSawan',\n",
       " u'UthaiThani',\n",
       " u'KamphaengPhet',\n",
       " u'Tak',\n",
       " u'Sukhothai',\n",
       " u'Phitsanulok',\n",
       " u'Phichit',\n",
       " u'Phetchabun',\n",
       " u'Ratchaburi',\n",
       " u'Kanchanaburi',\n",
       " u'SuphanBuri',\n",
       " u'NakhonPathom',\n",
       " u'SamutSakhon',\n",
       " u'SamutSongkhram',\n",
       " u'Phetchaburi',\n",
       " u'PrachuapKhiriKhan',\n",
       " u'NakhonSiThammarat',\n",
       " u'Krabi',\n",
       " u'Phang-nga',\n",
       " u'Phuket',\n",
       " u'SuratThani',\n",
       " u'Ranong',\n",
       " u'Chumphon',\n",
       " u'Songkhla',\n",
       " u'Satun',\n",
       " u'Trang',\n",
       " u'Phatthalung',\n",
       " u'Pattani',\n",
       " u'Yala',\n",
       " u'Narathiwat']"
      ]
     },
     "execution_count": 132,
     "metadata": {},
     "output_type": "execute_result"
    }
   ],
   "source": [
    "b.values()"
   ]
  },
  {
   "cell_type": "code",
   "execution_count": 118,
   "metadata": {
    "collapsed": false
   },
   "outputs": [],
   "source": [
    "# thailand_pro_code = np.array(temp)\n"
   ]
  },
  {
   "cell_type": "code",
   "execution_count": 119,
   "metadata": {
    "collapsed": false
   },
   "outputs": [],
   "source": [
    "# thailand_df = pd.DataFrame(thailand_pro_code)"
   ]
  },
  {
   "cell_type": "code",
   "execution_count": 120,
   "metadata": {
    "collapsed": false
   },
   "outputs": [],
   "source": [
    "# thailand_df.columns = ['province','code']"
   ]
  },
  {
   "cell_type": "code",
   "execution_count": 121,
   "metadata": {
    "collapsed": false
   },
   "outputs": [],
   "source": [
    "# thailand_df = thailand_df.sort_values(by=\"code\")"
   ]
  },
  {
   "cell_type": "code",
   "execution_count": 134,
   "metadata": {
    "collapsed": false
   },
   "outputs": [],
   "source": [
    "provinces = ['Bangkok','SamutPrakan','Nonthaburi','PhraNakhonSiAyutthaya',\n",
    "'AngThong','LopBuri','SingBuri','ChaiNat','Saraburi','ChonBuri',\n",
    "'Rayong','Chanthaburi','Trat','Chachoengsao','PrachinBuri',\n",
    "'NakhonNayok','SaKaeo','NakhonRatchasima','BuriRam','Surin',\n",
    "'SiSaKet','UbonRatchathani','Yasothon','Chaiyaphum','AmnatCharoen',\n",
    "'NongBuaLamPhu','UdonThani','Loei','NongKhai','RoiEt',\n",
    "'Kalasin','SakonNakhon','NakhonPhanom','Mukdahan','ChiangMai',\n",
    "'Lamphun','Lampang','Uttaradit','Phrae','Nan','Phayao',\n",
    "'ChiangRai','MaeHongSon','NakhonSawan','UthaiThani','KamphaengPhet',\n",
    "'Tak','Sukhothai','Phitsanulok','Phichit','Phetchabun',\n",
    "'Ratchaburi','Kanchanaburi','SuphanBuri','NakhonPathom','SamutSakhon',\n",
    "'SamutSongkhram','Phetchaburi','PrachuapKhiriKhan','NakhonSiThammarat',\n",
    "'Krabi','Phang-nga','Phuket','SuratThani','Ranong',\n",
    "'Chumphon','Songkhla','Satun','Trang','Phatthalung','Pattani',\n",
    "'Yala','Narathiwat','PathumThani','KhonKaen','MahaSarakham']"
   ]
  },
  {
   "cell_type": "code",
   "execution_count": 138,
   "metadata": {
    "collapsed": false
   },
   "outputs": [
    {
     "name": "stdout",
     "output_type": "stream",
     "text": [
      "[1, 2, 3, 4, 5, 6, 7, 8, 9, 10, 11, 12, 13, 14, 15, 16, 17, 18, 19, 20, 21, 22, 23, 24, 25, 26, 27, 28, 29, 30, 31, 32, 33, 34, 35, 36, 37, 38, 39, 40, 41, 42, 43, 44, 45, 46, 47, 48, 49, 50, 51, 52, 53, 54, 55, 56, 57, 58, 59, 60, 61, 62, 63, 64, 65, 66, 67, 68, 69, 70, 71, 72, 73, 74, 75, 76]\n"
     ]
    }
   ],
   "source": [
    "# fh=\"\"\"<li><a href=\"#\" data-filter=\"month\" data-value=\"%i\">\"\"\"\n",
    "# sh=\"</a></li>\"\n",
    "# for i,e in enumerate(provinces):\n",
    "#     print '''<li><a href=\"#\" data-filter=\"month\" data-value=\"'''+str(i+1)+'\">'+e+\"</a></li>\"\n",
    "print [i for i in range(1,77)] "
   ]
  },
  {
   "cell_type": "code",
   "execution_count": null,
   "metadata": {
    "collapsed": true
   },
   "outputs": [],
   "source": []
  }
 ],
 "metadata": {
  "anaconda-cloud": {},
  "kernelspec": {
   "display_name": "Python [default]",
   "language": "python",
   "name": "python2"
  },
  "language_info": {
   "codemirror_mode": {
    "name": "ipython",
    "version": 2
   },
   "file_extension": ".py",
   "mimetype": "text/x-python",
   "name": "python",
   "nbconvert_exporter": "python",
   "pygments_lexer": "ipython2",
   "version": "2.7.12"
  }
 },
 "nbformat": 4,
 "nbformat_minor": 1
}
