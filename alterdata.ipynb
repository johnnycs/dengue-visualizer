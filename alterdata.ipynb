{
 "cells": [
  {
   "cell_type": "code",
   "execution_count": 1,
   "metadata": {
    "collapsed": false
   },
   "outputs": [
    {
     "name": "stderr",
     "output_type": "stream",
     "text": [
      "/Users/JohnnyV/anaconda2/lib/python2.7/site-packages/matplotlib/font_manager.py:273: UserWarning: Matplotlib is building the font cache using fc-list. This may take a moment.\n",
      "  warnings.warn('Matplotlib is building the font cache using fc-list. This may take a moment.')\n"
     ]
    }
   ],
   "source": [
    "%matplotlib inline\n",
    "from matplotlib import pyplot as plt\n",
    "import numpy as np\n",
    "import math\n",
    "import pandas as pd\n",
    "from pandas import ExcelWriter\n",
    "from pandas import ExcelFile\n",
    "import glob as glob"
   ]
  },
  {
   "cell_type": "code",
   "execution_count": 2,
   "metadata": {
    "collapsed": true
   },
   "outputs": [],
   "source": [
    "accidents = pd.read_csv(\"100_samples_newyear_casualties.csv\")\n"
   ]
  },
  {
   "cell_type": "code",
   "execution_count": 35,
   "metadata": {
    "collapsed": false
   },
   "outputs": [],
   "source": [
    "accidents[\"เวลาเกิดเหตุ\"] = np.random.randint(0,3, size=len(accidents[\"เวลาเกิดเหตุ\"]))"
   ]
  },
  {
   "cell_type": "code",
   "execution_count": 36,
   "metadata": {
    "collapsed": false
   },
   "outputs": [],
   "source": [
    "# accidents[\"เวลาเกิดเหตุ\"] = 0"
   ]
  },
  {
   "cell_type": "code",
   "execution_count": 37,
   "metadata": {
    "collapsed": false
   },
   "outputs": [],
   "source": [
    "accidents.to_csv(\"/Users/JohnnyV/Desktop/Academic/CS/DataMining/project/dengue-visualizer/data/trial-100.csv\",sep=',',index=False)"
   ]
  },
  {
   "cell_type": "code",
   "execution_count": 38,
   "metadata": {
    "collapsed": false
   },
   "outputs": [
    {
     "data": {
      "text/plain": [
       "array([2, 1, 2, 2, 2, 2, 1, 2, 0, 0, 1, 1, 1, 1, 1, 2, 0, 2, 2, 2, 0, 1, 2,\n",
       "       2, 0, 0, 1, 1, 0, 1, 1, 2, 2, 0, 1, 1, 1, 2, 1, 2, 1, 0, 0, 2, 0, 2,\n",
       "       1, 2, 2, 2, 0, 2, 2, 2, 2, 0, 1, 1, 1, 0, 0, 0, 0, 2, 0, 0, 0, 1, 1,\n",
       "       1, 0, 0, 1, 0, 1, 0, 2, 0, 1, 0, 0, 2, 2, 2, 1, 2, 2, 0, 0, 1, 0, 1,\n",
       "       2, 1, 0, 1, 0, 1, 2, 1])"
      ]
     },
     "execution_count": 38,
     "metadata": {},
     "output_type": "execute_result"
    }
   ],
   "source": [
    "np.random.randint(0,3, size=len(accidents[\"เวลาเกิดเหตุ\"]))"
   ]
  },
  {
   "cell_type": "code",
   "execution_count": 39,
   "metadata": {
    "collapsed": true
   },
   "outputs": [],
   "source": [
    "original = pd.read_csv(\"100_samples_newyear_casualties.csv\")\n"
   ]
  },
  {
   "cell_type": "code",
   "execution_count": 40,
   "metadata": {
    "collapsed": false
   },
   "outputs": [
    {
     "data": {
      "text/html": [
       "<div>\n",
       "<table border=\"1\" class=\"dataframe\">\n",
       "  <thead>\n",
       "    <tr style=\"text-align: right;\">\n",
       "      <th></th>\n",
       "      <th>year</th>\n",
       "      <th>ชื่อเทศกาล</th>\n",
       "      <th>รหัสจังหวัด</th>\n",
       "      <th>จังหวัด</th>\n",
       "      <th>รหัส รพ.</th>\n",
       "      <th>ชื่อโรงพยาบาลที่รับผู้บาดเจ็บ</th>\n",
       "      <th>วันที่เกิดเหตุ</th>\n",
       "      <th>เวลาเกิดเหตุ</th>\n",
       "      <th>เพศ</th>\n",
       "      <th>อายุ</th>\n",
       "      <th>ถนนที่เกิดเหตุ</th>\n",
       "      <th>สถานะ</th>\n",
       "      <th>รถผู้บาดเจ็บ</th>\n",
       "      <th>รถคู่กรณี</th>\n",
       "      <th>มาตรการ</th>\n",
       "      <th>การดื่มสุรา</th>\n",
       "      <th>การนำส่ง</th>\n",
       "      <th>Refer-Admit</th>\n",
       "      <th>ผลการรักษา</th>\n",
       "      <th>จำนวนวันรักษา</th>\n",
       "    </tr>\n",
       "  </thead>\n",
       "  <tbody>\n",
       "    <tr>\n",
       "      <th>0</th>\n",
       "      <td>2008</td>\n",
       "      <td>ปีใหม่ 51</td>\n",
       "      <td>10</td>\n",
       "      <td>กรุงเทพมหานคร</td>\n",
       "      <td>11630</td>\n",
       "      <td>กรุงเทพ</td>\n",
       "      <td>3</td>\n",
       "      <td>12</td>\n",
       "      <td>หญิง</td>\n",
       "      <td>54</td>\n",
       "      <td>ในเมือง</td>\n",
       "      <td>ผู้ชับขี่</td>\n",
       "      <td>รถเก๋ง/แท็กซี่</td>\n",
       "      <td>ไม่มี/ล้มเอง</td>\n",
       "      <td>เข็มขัด</td>\n",
       "      <td>ไม่ดื่ม</td>\n",
       "      <td>ผู้ประสบเหตุ/ญาติ</td>\n",
       "      <td>ไม่</td>\n",
       "      <td>ทุเลา/หาย</td>\n",
       "      <td>0</td>\n",
       "    </tr>\n",
       "    <tr>\n",
       "      <th>1</th>\n",
       "      <td>2008</td>\n",
       "      <td>ปีใหม่ 51</td>\n",
       "      <td>10</td>\n",
       "      <td>กรุงเทพมหานคร</td>\n",
       "      <td>11548</td>\n",
       "      <td>กรุงเทพคริสเตียน</td>\n",
       "      <td>2</td>\n",
       "      <td>21</td>\n",
       "      <td>หญิง</td>\n",
       "      <td>13</td>\n",
       "      <td>ในเมือง</td>\n",
       "      <td>ผู้ชับขี่</td>\n",
       "      <td>จักรยานยนต์</td>\n",
       "      <td>รถตู้</td>\n",
       "      <td>ใส่หมวก</td>\n",
       "      <td>ไม่ดื่ม</td>\n",
       "      <td>มูลนิธิ/อาสาสมัคร</td>\n",
       "      <td>admit</td>\n",
       "      <td>ทุเลา/หาย</td>\n",
       "      <td>0</td>\n",
       "    </tr>\n",
       "    <tr>\n",
       "      <th>2</th>\n",
       "      <td>2008</td>\n",
       "      <td>ปีใหม่ 51</td>\n",
       "      <td>10</td>\n",
       "      <td>กรุงเทพมหานคร</td>\n",
       "      <td>11548</td>\n",
       "      <td>กรุงเทพคริสเตียน</td>\n",
       "      <td>31</td>\n",
       "      <td>03</td>\n",
       "      <td>หญิง</td>\n",
       "      <td>0</td>\n",
       "      <td>ในเมือง</td>\n",
       "      <td>ผู้โดยสาร</td>\n",
       "      <td>จักรยานยนต์</td>\n",
       "      <td>ปิคอัพ</td>\n",
       "      <td>ไม่ใส่</td>\n",
       "      <td>ไม่ดื่ม</td>\n",
       "      <td>ผู้ประสบเหตุ/ญาติ</td>\n",
       "      <td>ไม่</td>\n",
       "      <td>ทุเลา/หาย</td>\n",
       "      <td>0</td>\n",
       "    </tr>\n",
       "    <tr>\n",
       "      <th>3</th>\n",
       "      <td>2008</td>\n",
       "      <td>ปีใหม่ 51</td>\n",
       "      <td>10</td>\n",
       "      <td>กรุงเทพมหานคร</td>\n",
       "      <td>11548</td>\n",
       "      <td>กรุงเทพคริสเตียน</td>\n",
       "      <td>31</td>\n",
       "      <td>03</td>\n",
       "      <td>หญิง</td>\n",
       "      <td>0</td>\n",
       "      <td>ในเมือง</td>\n",
       "      <td>ผู้โดยสาร</td>\n",
       "      <td>จักรยานยนต์</td>\n",
       "      <td>ปิคอัพ</td>\n",
       "      <td>ใส่หมวก</td>\n",
       "      <td>ไม่ดื่ม</td>\n",
       "      <td>ผู้ประสบเหตุ/ญาติ</td>\n",
       "      <td>ไม่</td>\n",
       "      <td>ทุเลา/หาย</td>\n",
       "      <td>0</td>\n",
       "    </tr>\n",
       "    <tr>\n",
       "      <th>4</th>\n",
       "      <td>2008</td>\n",
       "      <td>ปีใหม่ 51</td>\n",
       "      <td>10</td>\n",
       "      <td>กรุงเทพมหานคร</td>\n",
       "      <td>11548</td>\n",
       "      <td>กรุงเทพคริสเตียน</td>\n",
       "      <td>31</td>\n",
       "      <td>03</td>\n",
       "      <td>ชาย</td>\n",
       "      <td>0</td>\n",
       "      <td>ในเมือง</td>\n",
       "      <td>ผู้ชับขี่</td>\n",
       "      <td>จักรยานยนต์</td>\n",
       "      <td>ปิคอัพ</td>\n",
       "      <td>ใส่หมวก</td>\n",
       "      <td>ดื่ม</td>\n",
       "      <td>ผู้ประสบเหตุ/ญาติ</td>\n",
       "      <td>ไม่</td>\n",
       "      <td>ทุเลา/หาย</td>\n",
       "      <td>0</td>\n",
       "    </tr>\n",
       "  </tbody>\n",
       "</table>\n",
       "</div>"
      ],
      "text/plain": [
       "   year ชื่อเทศกาล  รหัสจังหวัด        จังหวัด  รหัส รพ.  \\\n",
       "0  2008  ปีใหม่ 51           10  กรุงเทพมหานคร     11630   \n",
       "1  2008  ปีใหม่ 51           10  กรุงเทพมหานคร     11548   \n",
       "2  2008  ปีใหม่ 51           10  กรุงเทพมหานคร     11548   \n",
       "3  2008  ปีใหม่ 51           10  กรุงเทพมหานคร     11548   \n",
       "4  2008  ปีใหม่ 51           10  กรุงเทพมหานคร     11548   \n",
       "\n",
       "  ชื่อโรงพยาบาลที่รับผู้บาดเจ็บ  วันที่เกิดเหตุ เวลาเกิดเหตุ   เพศ  อายุ  \\\n",
       "0                       กรุงเทพ               3           12  หญิง    54   \n",
       "1              กรุงเทพคริสเตียน               2           21  หญิง    13   \n",
       "2              กรุงเทพคริสเตียน              31           03  หญิง     0   \n",
       "3              กรุงเทพคริสเตียน              31           03  หญิง     0   \n",
       "4              กรุงเทพคริสเตียน              31           03   ชาย     0   \n",
       "\n",
       "  ถนนที่เกิดเหตุ      สถานะ    รถผู้บาดเจ็บ     รถคู่กรณี  มาตรการ  \\\n",
       "0        ในเมือง  ผู้ชับขี่  รถเก๋ง/แท็กซี่  ไม่มี/ล้มเอง  เข็มขัด   \n",
       "1        ในเมือง  ผู้ชับขี่     จักรยานยนต์         รถตู้  ใส่หมวก   \n",
       "2        ในเมือง  ผู้โดยสาร     จักรยานยนต์        ปิคอัพ   ไม่ใส่   \n",
       "3        ในเมือง  ผู้โดยสาร     จักรยานยนต์        ปิคอัพ  ใส่หมวก   \n",
       "4        ในเมือง  ผู้ชับขี่     จักรยานยนต์        ปิคอัพ  ใส่หมวก   \n",
       "\n",
       "  การดื่มสุรา           การนำส่ง Refer-Admit ผลการรักษา  จำนวนวันรักษา  \n",
       "0     ไม่ดื่ม  ผู้ประสบเหตุ/ญาติ         ไม่  ทุเลา/หาย              0  \n",
       "1     ไม่ดื่ม  มูลนิธิ/อาสาสมัคร       admit  ทุเลา/หาย              0  \n",
       "2     ไม่ดื่ม  ผู้ประสบเหตุ/ญาติ         ไม่  ทุเลา/หาย              0  \n",
       "3     ไม่ดื่ม  ผู้ประสบเหตุ/ญาติ         ไม่  ทุเลา/หาย              0  \n",
       "4        ดื่ม  ผู้ประสบเหตุ/ญาติ         ไม่  ทุเลา/หาย              0  "
      ]
     },
     "execution_count": 40,
     "metadata": {},
     "output_type": "execute_result"
    }
   ],
   "source": [
    "original.head()"
   ]
  },
  {
   "cell_type": "code",
   "execution_count": 43,
   "metadata": {
    "collapsed": false
   },
   "outputs": [],
   "source": [
    "original = original.drop(['year','ชื่อเทศกาล','จังหวัด','รหัส รพ.',\n",
    "               'ชื่อโรงพยาบาลที่รับผู้บาดเจ็บ','เพศ','อายุ',\n",
    "               'ถนนที่เกิดเหตุ','สถานะ','รถผู้บาดเจ็บ',\n",
    "               'รถคู่กรณี','มาตรการ','การดื่มสุรา','การนำส่ง',\n",
    "               'Refer-Admit','ผลการรักษา','จำนวนวันรักษา'],axis=1)"
   ]
  },
  {
   "cell_type": "code",
   "execution_count": 45,
   "metadata": {
    "collapsed": true
   },
   "outputs": [],
   "source": [
    "original[\"เวลาเกิดเหตุ\"] = np.random.randint(0,3, size=len(accidents[\"เวลาเกิดเหตุ\"]))"
   ]
  },
  {
   "cell_type": "code",
   "execution_count": 46,
   "metadata": {
    "collapsed": true
   },
   "outputs": [],
   "source": [
    "original.to_csv(\"/Users/JohnnyV/Desktop/Academic/CS/DataMining/project/dengue-visualizer/data/trial-100.csv\",sep=',',index=False)"
   ]
  },
  {
   "cell_type": "code",
   "execution_count": null,
   "metadata": {
    "collapsed": true
   },
   "outputs": [],
   "source": []
  }
 ],
 "metadata": {
  "anaconda-cloud": {},
  "kernelspec": {
   "display_name": "Python [default]",
   "language": "python",
   "name": "python2"
  },
  "language_info": {
   "codemirror_mode": {
    "name": "ipython",
    "version": 2
   },
   "file_extension": ".py",
   "mimetype": "text/x-python",
   "name": "python",
   "nbconvert_exporter": "python",
   "pygments_lexer": "ipython2",
   "version": "2.7.12"
  }
 },
 "nbformat": 4,
 "nbformat_minor": 1
}
